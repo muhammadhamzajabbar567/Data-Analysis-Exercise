{
 "cells": [
  {
   "cell_type": "code",
   "execution_count": 1,
   "id": "80032e39",
   "metadata": {},
   "outputs": [],
   "source": [
    "import pandas as pd"
   ]
  },
  {
   "cell_type": "code",
   "execution_count": 5,
   "id": "402cb698",
   "metadata": {},
   "outputs": [
    {
     "data": {
      "text/html": [
       "<div>\n",
       "<style scoped>\n",
       "    .dataframe tbody tr th:only-of-type {\n",
       "        vertical-align: middle;\n",
       "    }\n",
       "\n",
       "    .dataframe tbody tr th {\n",
       "        vertical-align: top;\n",
       "    }\n",
       "\n",
       "    .dataframe thead th {\n",
       "        text-align: right;\n",
       "    }\n",
       "</style>\n",
       "<table border=\"1\" class=\"dataframe\">\n",
       "  <thead>\n",
       "    <tr style=\"text-align: right;\">\n",
       "      <th></th>\n",
       "      <th>Name</th>\n",
       "      <th>Gender</th>\n",
       "      <th>Marks</th>\n",
       "    </tr>\n",
       "  </thead>\n",
       "  <tbody>\n",
       "    <tr>\n",
       "      <th>1</th>\n",
       "      <td>Muhammad Ahmed</td>\n",
       "      <td>Male</td>\n",
       "      <td>82</td>\n",
       "    </tr>\n",
       "    <tr>\n",
       "      <th>2</th>\n",
       "      <td>Muhammad Ali</td>\n",
       "      <td>Male</td>\n",
       "      <td>89</td>\n",
       "    </tr>\n",
       "    <tr>\n",
       "      <th>3</th>\n",
       "      <td>Muhammad Ramzan</td>\n",
       "      <td>Male</td>\n",
       "      <td>75</td>\n",
       "    </tr>\n",
       "    <tr>\n",
       "      <th>4</th>\n",
       "      <td>Muhammad Kamran</td>\n",
       "      <td>Male</td>\n",
       "      <td>89</td>\n",
       "    </tr>\n",
       "    <tr>\n",
       "      <th>5</th>\n",
       "      <td>Ayesha Khan</td>\n",
       "      <td>Female</td>\n",
       "      <td>91</td>\n",
       "    </tr>\n",
       "    <tr>\n",
       "      <th>6</th>\n",
       "      <td>Hafsa Ali</td>\n",
       "      <td>Female</td>\n",
       "      <td>76</td>\n",
       "    </tr>\n",
       "    <tr>\n",
       "      <th>7</th>\n",
       "      <td>Fatima Khan</td>\n",
       "      <td>Female</td>\n",
       "      <td>64</td>\n",
       "    </tr>\n",
       "    <tr>\n",
       "      <th>8</th>\n",
       "      <td>Alisha Ahmed</td>\n",
       "      <td>Female</td>\n",
       "      <td>85</td>\n",
       "    </tr>\n",
       "  </tbody>\n",
       "</table>\n",
       "</div>"
      ],
      "text/plain": [
       "              Name  Gender  Marks\n",
       "1   Muhammad Ahmed    Male     82\n",
       "2     Muhammad Ali    Male     89\n",
       "3  Muhammad Ramzan    Male     75\n",
       "4  Muhammad Kamran    Male     89\n",
       "5      Ayesha Khan  Female     91\n",
       "6        Hafsa Ali  Female     76\n",
       "7      Fatima Khan  Female     64\n",
       "8     Alisha Ahmed  Female     85"
      ]
     },
     "execution_count": 5,
     "metadata": {},
     "output_type": "execute_result"
    }
   ],
   "source": [
    "dict1 = {\n",
    "    'Name':['Muhammad Ahmed','Muhammad Ali','Muhammad Ramzan','Muhammad Kamran','Ayesha Khan','Hafsa Ali',\n",
    "            'Fatima Khan','Alisha Ahmed'],\n",
    "    'Gender':['Male','Male','Male','Male','Female','Female','Female','Female'],\n",
    "    'Marks':[82,89,75,89,91,76,64,85]\n",
    "}\n",
    "df1 = pd.DataFrame(dict1,index=[1,2,3,4,5,6,7,8])\n",
    "df1"
   ]
  },
  {
   "cell_type": "code",
   "execution_count": 8,
   "id": "d0245c89",
   "metadata": {},
   "outputs": [
    {
     "data": {
      "text/html": [
       "<div>\n",
       "<style scoped>\n",
       "    .dataframe tbody tr th:only-of-type {\n",
       "        vertical-align: middle;\n",
       "    }\n",
       "\n",
       "    .dataframe tbody tr th {\n",
       "        vertical-align: top;\n",
       "    }\n",
       "\n",
       "    .dataframe thead th {\n",
       "        text-align: right;\n",
       "    }\n",
       "</style>\n",
       "<table border=\"1\" class=\"dataframe\">\n",
       "  <thead>\n",
       "    <tr style=\"text-align: right;\">\n",
       "      <th></th>\n",
       "      <th>Name</th>\n",
       "      <th>Gender</th>\n",
       "      <th>Marks</th>\n",
       "    </tr>\n",
       "  </thead>\n",
       "  <tbody>\n",
       "    <tr>\n",
       "      <th>1</th>\n",
       "      <td>Muhammad Ahmed</td>\n",
       "      <td>Male</td>\n",
       "      <td>82</td>\n",
       "    </tr>\n",
       "    <tr>\n",
       "      <th>2</th>\n",
       "      <td>Muhammad Ali</td>\n",
       "      <td>Male</td>\n",
       "      <td>89</td>\n",
       "    </tr>\n",
       "    <tr>\n",
       "      <th>3</th>\n",
       "      <td>Muhammad Ramzan</td>\n",
       "      <td>Male</td>\n",
       "      <td>75</td>\n",
       "    </tr>\n",
       "    <tr>\n",
       "      <th>4</th>\n",
       "      <td>Muhammad Kamran</td>\n",
       "      <td>Male</td>\n",
       "      <td>89</td>\n",
       "    </tr>\n",
       "    <tr>\n",
       "      <th>5</th>\n",
       "      <td>Ayesha Khan</td>\n",
       "      <td>Female</td>\n",
       "      <td>91</td>\n",
       "    </tr>\n",
       "    <tr>\n",
       "      <th>6</th>\n",
       "      <td>Hafsa Ali</td>\n",
       "      <td>Female</td>\n",
       "      <td>76</td>\n",
       "    </tr>\n",
       "  </tbody>\n",
       "</table>\n",
       "</div>"
      ],
      "text/plain": [
       "              Name  Gender  Marks\n",
       "1   Muhammad Ahmed    Male     82\n",
       "2     Muhammad Ali    Male     89\n",
       "3  Muhammad Ramzan    Male     75\n",
       "4  Muhammad Kamran    Male     89\n",
       "5      Ayesha Khan  Female     91\n",
       "6        Hafsa Ali  Female     76"
      ]
     },
     "execution_count": 8,
     "metadata": {},
     "output_type": "execute_result"
    }
   ],
   "source": [
    "# 1.Display Top 6 Rows of The Dataset\n",
    "df1.head(6)"
   ]
  },
  {
   "cell_type": "code",
   "execution_count": 9,
   "id": "e987b036",
   "metadata": {},
   "outputs": [
    {
     "data": {
      "text/html": [
       "<div>\n",
       "<style scoped>\n",
       "    .dataframe tbody tr th:only-of-type {\n",
       "        vertical-align: middle;\n",
       "    }\n",
       "\n",
       "    .dataframe tbody tr th {\n",
       "        vertical-align: top;\n",
       "    }\n",
       "\n",
       "    .dataframe thead th {\n",
       "        text-align: right;\n",
       "    }\n",
       "</style>\n",
       "<table border=\"1\" class=\"dataframe\">\n",
       "  <thead>\n",
       "    <tr style=\"text-align: right;\">\n",
       "      <th></th>\n",
       "      <th>Name</th>\n",
       "      <th>Gender</th>\n",
       "      <th>Marks</th>\n",
       "    </tr>\n",
       "  </thead>\n",
       "  <tbody>\n",
       "    <tr>\n",
       "      <th>5</th>\n",
       "      <td>Ayesha Khan</td>\n",
       "      <td>Female</td>\n",
       "      <td>91</td>\n",
       "    </tr>\n",
       "    <tr>\n",
       "      <th>6</th>\n",
       "      <td>Hafsa Ali</td>\n",
       "      <td>Female</td>\n",
       "      <td>76</td>\n",
       "    </tr>\n",
       "    <tr>\n",
       "      <th>7</th>\n",
       "      <td>Fatima Khan</td>\n",
       "      <td>Female</td>\n",
       "      <td>64</td>\n",
       "    </tr>\n",
       "    <tr>\n",
       "      <th>8</th>\n",
       "      <td>Alisha Ahmed</td>\n",
       "      <td>Female</td>\n",
       "      <td>85</td>\n",
       "    </tr>\n",
       "  </tbody>\n",
       "</table>\n",
       "</div>"
      ],
      "text/plain": [
       "           Name  Gender  Marks\n",
       "5   Ayesha Khan  Female     91\n",
       "6     Hafsa Ali  Female     76\n",
       "7   Fatima Khan  Female     64\n",
       "8  Alisha Ahmed  Female     85"
      ]
     },
     "execution_count": 9,
     "metadata": {},
     "output_type": "execute_result"
    }
   ],
   "source": [
    "# 2. Check Last 4 Rows of The Dataset\n",
    "df1.tail(4)"
   ]
  },
  {
   "cell_type": "code",
   "execution_count": 12,
   "id": "160172f3",
   "metadata": {},
   "outputs": [
    {
     "data": {
      "text/plain": [
       "(8, 3)"
      ]
     },
     "execution_count": 12,
     "metadata": {},
     "output_type": "execute_result"
    }
   ],
   "source": [
    "# 3. Find Shape of Our Dataset (Number of Rows And Number of Columns)\n",
    "df1.shape"
   ]
  },
  {
   "cell_type": "code",
   "execution_count": 13,
   "id": "8e8979c8",
   "metadata": {},
   "outputs": [
    {
     "name": "stdout",
     "output_type": "stream",
     "text": [
      "Total Number Of Rows:  8\n",
      "Total Number Of Columns:  3\n"
     ]
    }
   ],
   "source": [
    "print(f\"Total Number Of Rows: \",df1.shape[0])\n",
    "print(f\"Total Number Of Columns: \",df1.shape[1])\n"
   ]
  },
  {
   "cell_type": "code",
   "execution_count": 14,
   "id": "d9786824",
   "metadata": {},
   "outputs": [
    {
     "name": "stdout",
     "output_type": "stream",
     "text": [
      "<class 'pandas.core.frame.DataFrame'>\n",
      "Int64Index: 8 entries, 1 to 8\n",
      "Data columns (total 3 columns):\n",
      " #   Column  Non-Null Count  Dtype \n",
      "---  ------  --------------  ----- \n",
      " 0   Name    8 non-null      object\n",
      " 1   Gender  8 non-null      object\n",
      " 2   Marks   8 non-null      int64 \n",
      "dtypes: int64(1), object(2)\n",
      "memory usage: 256.0+ bytes\n"
     ]
    }
   ],
   "source": [
    "# 4. Getting Information About Our Dataset Like Total Number Rows,\n",
    "# Total Number of Columns, Datatypes of Each Column And Memory Requirement\n",
    "\n",
    "df1.info()"
   ]
  },
  {
   "cell_type": "code",
   "execution_count": 16,
   "id": "ad22423f",
   "metadata": {},
   "outputs": [
    {
     "data": {
      "text/html": [
       "<div>\n",
       "<style scoped>\n",
       "    .dataframe tbody tr th:only-of-type {\n",
       "        vertical-align: middle;\n",
       "    }\n",
       "\n",
       "    .dataframe tbody tr th {\n",
       "        vertical-align: top;\n",
       "    }\n",
       "\n",
       "    .dataframe thead th {\n",
       "        text-align: right;\n",
       "    }\n",
       "</style>\n",
       "<table border=\"1\" class=\"dataframe\">\n",
       "  <thead>\n",
       "    <tr style=\"text-align: right;\">\n",
       "      <th></th>\n",
       "      <th>Marks</th>\n",
       "    </tr>\n",
       "  </thead>\n",
       "  <tbody>\n",
       "    <tr>\n",
       "      <th>count</th>\n",
       "      <td>8.000000</td>\n",
       "    </tr>\n",
       "    <tr>\n",
       "      <th>mean</th>\n",
       "      <td>81.375000</td>\n",
       "    </tr>\n",
       "    <tr>\n",
       "      <th>std</th>\n",
       "      <td>9.210824</td>\n",
       "    </tr>\n",
       "    <tr>\n",
       "      <th>min</th>\n",
       "      <td>64.000000</td>\n",
       "    </tr>\n",
       "    <tr>\n",
       "      <th>25%</th>\n",
       "      <td>75.750000</td>\n",
       "    </tr>\n",
       "    <tr>\n",
       "      <th>50%</th>\n",
       "      <td>83.500000</td>\n",
       "    </tr>\n",
       "    <tr>\n",
       "      <th>75%</th>\n",
       "      <td>89.000000</td>\n",
       "    </tr>\n",
       "    <tr>\n",
       "      <th>max</th>\n",
       "      <td>91.000000</td>\n",
       "    </tr>\n",
       "  </tbody>\n",
       "</table>\n",
       "</div>"
      ],
      "text/plain": [
       "           Marks\n",
       "count   8.000000\n",
       "mean   81.375000\n",
       "std     9.210824\n",
       "min    64.000000\n",
       "25%    75.750000\n",
       "50%    83.500000\n",
       "75%    89.000000\n",
       "max    91.000000"
      ]
     },
     "execution_count": 16,
     "metadata": {},
     "output_type": "execute_result"
    }
   ],
   "source": [
    "# 5. Get Overall Statistics About The Dataframe\n",
    "df1.describe()"
   ]
  },
  {
   "cell_type": "code",
   "execution_count": 21,
   "id": "1d148851",
   "metadata": {},
   "outputs": [
    {
     "data": {
      "text/html": [
       "<div>\n",
       "<style scoped>\n",
       "    .dataframe tbody tr th:only-of-type {\n",
       "        vertical-align: middle;\n",
       "    }\n",
       "\n",
       "    .dataframe tbody tr th {\n",
       "        vertical-align: top;\n",
       "    }\n",
       "\n",
       "    .dataframe thead th {\n",
       "        text-align: right;\n",
       "    }\n",
       "</style>\n",
       "<table border=\"1\" class=\"dataframe\">\n",
       "  <thead>\n",
       "    <tr style=\"text-align: right;\">\n",
       "      <th></th>\n",
       "      <th>Name</th>\n",
       "      <th>Gender</th>\n",
       "      <th>Marks</th>\n",
       "    </tr>\n",
       "  </thead>\n",
       "  <tbody>\n",
       "    <tr>\n",
       "      <th>count</th>\n",
       "      <td>8</td>\n",
       "      <td>8</td>\n",
       "      <td>8.000000</td>\n",
       "    </tr>\n",
       "    <tr>\n",
       "      <th>unique</th>\n",
       "      <td>8</td>\n",
       "      <td>2</td>\n",
       "      <td>NaN</td>\n",
       "    </tr>\n",
       "    <tr>\n",
       "      <th>top</th>\n",
       "      <td>Muhammad Ahmed</td>\n",
       "      <td>Male</td>\n",
       "      <td>NaN</td>\n",
       "    </tr>\n",
       "    <tr>\n",
       "      <th>freq</th>\n",
       "      <td>1</td>\n",
       "      <td>4</td>\n",
       "      <td>NaN</td>\n",
       "    </tr>\n",
       "    <tr>\n",
       "      <th>mean</th>\n",
       "      <td>NaN</td>\n",
       "      <td>NaN</td>\n",
       "      <td>81.375000</td>\n",
       "    </tr>\n",
       "    <tr>\n",
       "      <th>std</th>\n",
       "      <td>NaN</td>\n",
       "      <td>NaN</td>\n",
       "      <td>9.210824</td>\n",
       "    </tr>\n",
       "    <tr>\n",
       "      <th>min</th>\n",
       "      <td>NaN</td>\n",
       "      <td>NaN</td>\n",
       "      <td>64.000000</td>\n",
       "    </tr>\n",
       "    <tr>\n",
       "      <th>25%</th>\n",
       "      <td>NaN</td>\n",
       "      <td>NaN</td>\n",
       "      <td>75.750000</td>\n",
       "    </tr>\n",
       "    <tr>\n",
       "      <th>50%</th>\n",
       "      <td>NaN</td>\n",
       "      <td>NaN</td>\n",
       "      <td>83.500000</td>\n",
       "    </tr>\n",
       "    <tr>\n",
       "      <th>75%</th>\n",
       "      <td>NaN</td>\n",
       "      <td>NaN</td>\n",
       "      <td>89.000000</td>\n",
       "    </tr>\n",
       "    <tr>\n",
       "      <th>max</th>\n",
       "      <td>NaN</td>\n",
       "      <td>NaN</td>\n",
       "      <td>91.000000</td>\n",
       "    </tr>\n",
       "  </tbody>\n",
       "</table>\n",
       "</div>"
      ],
      "text/plain": [
       "                  Name Gender      Marks\n",
       "count                8      8   8.000000\n",
       "unique               8      2        NaN\n",
       "top     Muhammad Ahmed   Male        NaN\n",
       "freq                 1      4        NaN\n",
       "mean               NaN    NaN  81.375000\n",
       "std                NaN    NaN   9.210824\n",
       "min                NaN    NaN  64.000000\n",
       "25%                NaN    NaN  75.750000\n",
       "50%                NaN    NaN  83.500000\n",
       "75%                NaN    NaN  89.000000\n",
       "max                NaN    NaN  91.000000"
      ]
     },
     "execution_count": 21,
     "metadata": {},
     "output_type": "execute_result"
    }
   ],
   "source": [
    "df1.describe(include='all')"
   ]
  },
  {
   "cell_type": "code",
   "execution_count": 18,
   "id": "fc46e581",
   "metadata": {},
   "outputs": [
    {
     "data": {
      "text/html": [
       "<div>\n",
       "<style scoped>\n",
       "    .dataframe tbody tr th:only-of-type {\n",
       "        vertical-align: middle;\n",
       "    }\n",
       "\n",
       "    .dataframe tbody tr th {\n",
       "        vertical-align: top;\n",
       "    }\n",
       "\n",
       "    .dataframe thead th {\n",
       "        text-align: right;\n",
       "    }\n",
       "</style>\n",
       "<table border=\"1\" class=\"dataframe\">\n",
       "  <thead>\n",
       "    <tr style=\"text-align: right;\">\n",
       "      <th></th>\n",
       "      <th>Name</th>\n",
       "      <th>Gender</th>\n",
       "      <th>Marks</th>\n",
       "    </tr>\n",
       "  </thead>\n",
       "  <tbody>\n",
       "    <tr>\n",
       "      <th>1</th>\n",
       "      <td>False</td>\n",
       "      <td>False</td>\n",
       "      <td>False</td>\n",
       "    </tr>\n",
       "    <tr>\n",
       "      <th>2</th>\n",
       "      <td>False</td>\n",
       "      <td>False</td>\n",
       "      <td>False</td>\n",
       "    </tr>\n",
       "    <tr>\n",
       "      <th>3</th>\n",
       "      <td>False</td>\n",
       "      <td>False</td>\n",
       "      <td>False</td>\n",
       "    </tr>\n",
       "    <tr>\n",
       "      <th>4</th>\n",
       "      <td>False</td>\n",
       "      <td>False</td>\n",
       "      <td>False</td>\n",
       "    </tr>\n",
       "    <tr>\n",
       "      <th>5</th>\n",
       "      <td>False</td>\n",
       "      <td>False</td>\n",
       "      <td>False</td>\n",
       "    </tr>\n",
       "    <tr>\n",
       "      <th>6</th>\n",
       "      <td>False</td>\n",
       "      <td>False</td>\n",
       "      <td>False</td>\n",
       "    </tr>\n",
       "    <tr>\n",
       "      <th>7</th>\n",
       "      <td>False</td>\n",
       "      <td>False</td>\n",
       "      <td>False</td>\n",
       "    </tr>\n",
       "    <tr>\n",
       "      <th>8</th>\n",
       "      <td>False</td>\n",
       "      <td>False</td>\n",
       "      <td>False</td>\n",
       "    </tr>\n",
       "  </tbody>\n",
       "</table>\n",
       "</div>"
      ],
      "text/plain": [
       "    Name  Gender  Marks\n",
       "1  False   False  False\n",
       "2  False   False  False\n",
       "3  False   False  False\n",
       "4  False   False  False\n",
       "5  False   False  False\n",
       "6  False   False  False\n",
       "7  False   False  False\n",
       "8  False   False  False"
      ]
     },
     "execution_count": 18,
     "metadata": {},
     "output_type": "execute_result"
    }
   ],
   "source": [
    "# 6.Check Null Values In The Dataset\n",
    "\n",
    "df1.isnull()"
   ]
  },
  {
   "cell_type": "code",
   "execution_count": 19,
   "id": "9166bc7b",
   "metadata": {},
   "outputs": [
    {
     "data": {
      "text/plain": [
       "Name      0\n",
       "Gender    0\n",
       "Marks     0\n",
       "dtype: int64"
      ]
     },
     "execution_count": 19,
     "metadata": {},
     "output_type": "execute_result"
    }
   ],
   "source": [
    "df1.isnull().sum(axis=0)    # It shows All The Null Values As A Row wise"
   ]
  },
  {
   "cell_type": "code",
   "execution_count": 20,
   "id": "53d744fe",
   "metadata": {},
   "outputs": [
    {
     "data": {
      "text/plain": [
       "1    0\n",
       "2    0\n",
       "3    0\n",
       "4    0\n",
       "5    0\n",
       "6    0\n",
       "7    0\n",
       "8    0\n",
       "dtype: int64"
      ]
     },
     "execution_count": 20,
     "metadata": {},
     "output_type": "execute_result"
    }
   ],
   "source": [
    "df1.isnull().sum(axis=1)  # It shows All The Null Values As A Column wise"
   ]
  },
  {
   "cell_type": "code",
   "execution_count": 23,
   "id": "ad1f6454",
   "metadata": {},
   "outputs": [
    {
     "data": {
      "text/plain": [
       "array([82, 89, 75, 91, 76, 64, 85], dtype=int64)"
      ]
     },
     "execution_count": 23,
     "metadata": {},
     "output_type": "execute_result"
    }
   ],
   "source": [
    "# 7. Find The Unique Values From Gender Column\n",
    "\n",
    "df1['Gender'].unique()"
   ]
  },
  {
   "cell_type": "code",
   "execution_count": 24,
   "id": "10545ab1",
   "metadata": {},
   "outputs": [
    {
     "data": {
      "text/plain": [
       "2"
      ]
     },
     "execution_count": 24,
     "metadata": {},
     "output_type": "execute_result"
    }
   ],
   "source": [
    "# 8. Find The Number Of Unique Values From Gender Column\n",
    "df1['Gender'].nunique()"
   ]
  },
  {
   "cell_type": "code",
   "execution_count": 26,
   "id": "9878519f",
   "metadata": {},
   "outputs": [
    {
     "data": {
      "text/plain": [
       "Male      4\n",
       "Female    4\n",
       "Name: Gender, dtype: int64"
      ]
     },
     "execution_count": 26,
     "metadata": {},
     "output_type": "execute_result"
    }
   ],
   "source": [
    "# 9. Display Count Of Unique Values In Gender Column \n",
    "df1['Gender'].value_counts()"
   ]
  },
  {
   "cell_type": "code",
   "execution_count": 28,
   "id": "d5974c3a",
   "metadata": {},
   "outputs": [
    {
     "data": {
      "text/plain": [
       "1     True\n",
       "2     True\n",
       "3    False\n",
       "4     True\n",
       "5     True\n",
       "6    False\n",
       "7    False\n",
       "8     True\n",
       "Name: Marks, dtype: bool"
      ]
     },
     "execution_count": 28,
     "metadata": {},
     "output_type": "execute_result"
    }
   ],
   "source": [
    "# 10. Find Total Numbers Of Students HHaving Marks Between 80 and 100 (Inclusive) Using Between Method\n",
    "\n",
    "df1['Marks']>=80"
   ]
  },
  {
   "cell_type": "code",
   "execution_count": 32,
   "id": "fdd68959",
   "metadata": {},
   "outputs": [
    {
     "data": {
      "text/plain": [
       "1     True\n",
       "2     True\n",
       "3    False\n",
       "4     True\n",
       "5     True\n",
       "6    False\n",
       "7    False\n",
       "8     True\n",
       "Name: Marks, dtype: bool"
      ]
     },
     "execution_count": 32,
     "metadata": {},
     "output_type": "execute_result"
    }
   ],
   "source": [
    "(df1['Marks']>=80)      &  (df1['Marks']<=100)"
   ]
  },
  {
   "cell_type": "code",
   "execution_count": 33,
   "id": "684d9020",
   "metadata": {},
   "outputs": [
    {
     "data": {
      "text/html": [
       "<div>\n",
       "<style scoped>\n",
       "    .dataframe tbody tr th:only-of-type {\n",
       "        vertical-align: middle;\n",
       "    }\n",
       "\n",
       "    .dataframe tbody tr th {\n",
       "        vertical-align: top;\n",
       "    }\n",
       "\n",
       "    .dataframe thead th {\n",
       "        text-align: right;\n",
       "    }\n",
       "</style>\n",
       "<table border=\"1\" class=\"dataframe\">\n",
       "  <thead>\n",
       "    <tr style=\"text-align: right;\">\n",
       "      <th></th>\n",
       "      <th>Name</th>\n",
       "      <th>Gender</th>\n",
       "      <th>Marks</th>\n",
       "    </tr>\n",
       "  </thead>\n",
       "  <tbody>\n",
       "    <tr>\n",
       "      <th>1</th>\n",
       "      <td>Muhammad Ahmed</td>\n",
       "      <td>Male</td>\n",
       "      <td>82</td>\n",
       "    </tr>\n",
       "    <tr>\n",
       "      <th>2</th>\n",
       "      <td>Muhammad Ali</td>\n",
       "      <td>Male</td>\n",
       "      <td>89</td>\n",
       "    </tr>\n",
       "    <tr>\n",
       "      <th>4</th>\n",
       "      <td>Muhammad Kamran</td>\n",
       "      <td>Male</td>\n",
       "      <td>89</td>\n",
       "    </tr>\n",
       "    <tr>\n",
       "      <th>5</th>\n",
       "      <td>Ayesha Khan</td>\n",
       "      <td>Female</td>\n",
       "      <td>91</td>\n",
       "    </tr>\n",
       "    <tr>\n",
       "      <th>8</th>\n",
       "      <td>Alisha Ahmed</td>\n",
       "      <td>Female</td>\n",
       "      <td>85</td>\n",
       "    </tr>\n",
       "  </tbody>\n",
       "</table>\n",
       "</div>"
      ],
      "text/plain": [
       "              Name  Gender  Marks\n",
       "1   Muhammad Ahmed    Male     82\n",
       "2     Muhammad Ali    Male     89\n",
       "4  Muhammad Kamran    Male     89\n",
       "5      Ayesha Khan  Female     91\n",
       "8     Alisha Ahmed  Female     85"
      ]
     },
     "execution_count": 33,
     "metadata": {},
     "output_type": "execute_result"
    }
   ],
   "source": [
    "df1[(df1['Marks']>=80)      &  (df1['Marks']<=100)]"
   ]
  },
  {
   "cell_type": "code",
   "execution_count": 34,
   "id": "9f39f595",
   "metadata": {},
   "outputs": [
    {
     "data": {
      "text/plain": [
       "5"
      ]
     },
     "execution_count": 34,
     "metadata": {},
     "output_type": "execute_result"
    }
   ],
   "source": [
    "len(df1[(df1['Marks']>=80)      &  (df1['Marks']<=100)])"
   ]
  },
  {
   "cell_type": "code",
   "execution_count": 35,
   "id": "ef662083",
   "metadata": {},
   "outputs": [
    {
     "data": {
      "text/plain": [
       "1     True\n",
       "2     True\n",
       "3    False\n",
       "4     True\n",
       "5     True\n",
       "6    False\n",
       "7    False\n",
       "8     True\n",
       "Name: Marks, dtype: bool"
      ]
     },
     "execution_count": 35,
     "metadata": {},
     "output_type": "execute_result"
    }
   ],
   "source": [
    "df1['Marks'].between(80,100)"
   ]
  },
  {
   "cell_type": "code",
   "execution_count": 36,
   "id": "55da7bc8",
   "metadata": {},
   "outputs": [
    {
     "data": {
      "text/plain": [
       "5"
      ]
     },
     "execution_count": 36,
     "metadata": {},
     "output_type": "execute_result"
    }
   ],
   "source": [
    "sum(df1['Marks'].between(80,100))"
   ]
  },
  {
   "cell_type": "code",
   "execution_count": 37,
   "id": "b4ed5249",
   "metadata": {},
   "outputs": [
    {
     "data": {
      "text/html": [
       "<div>\n",
       "<style scoped>\n",
       "    .dataframe tbody tr th:only-of-type {\n",
       "        vertical-align: middle;\n",
       "    }\n",
       "\n",
       "    .dataframe tbody tr th {\n",
       "        vertical-align: top;\n",
       "    }\n",
       "\n",
       "    .dataframe thead th {\n",
       "        text-align: right;\n",
       "    }\n",
       "</style>\n",
       "<table border=\"1\" class=\"dataframe\">\n",
       "  <thead>\n",
       "    <tr style=\"text-align: right;\">\n",
       "      <th></th>\n",
       "      <th>Name</th>\n",
       "      <th>Gender</th>\n",
       "      <th>Marks</th>\n",
       "    </tr>\n",
       "  </thead>\n",
       "  <tbody>\n",
       "    <tr>\n",
       "      <th>1</th>\n",
       "      <td>Muhammad Ahmed</td>\n",
       "      <td>Male</td>\n",
       "      <td>82</td>\n",
       "    </tr>\n",
       "    <tr>\n",
       "      <th>2</th>\n",
       "      <td>Muhammad Ali</td>\n",
       "      <td>Male</td>\n",
       "      <td>89</td>\n",
       "    </tr>\n",
       "    <tr>\n",
       "      <th>3</th>\n",
       "      <td>Muhammad Ramzan</td>\n",
       "      <td>Male</td>\n",
       "      <td>75</td>\n",
       "    </tr>\n",
       "    <tr>\n",
       "      <th>4</th>\n",
       "      <td>Muhammad Kamran</td>\n",
       "      <td>Male</td>\n",
       "      <td>89</td>\n",
       "    </tr>\n",
       "    <tr>\n",
       "      <th>5</th>\n",
       "      <td>Ayesha Khan</td>\n",
       "      <td>Female</td>\n",
       "      <td>91</td>\n",
       "    </tr>\n",
       "    <tr>\n",
       "      <th>6</th>\n",
       "      <td>Hafsa Ali</td>\n",
       "      <td>Female</td>\n",
       "      <td>76</td>\n",
       "    </tr>\n",
       "    <tr>\n",
       "      <th>7</th>\n",
       "      <td>Fatima Khan</td>\n",
       "      <td>Female</td>\n",
       "      <td>64</td>\n",
       "    </tr>\n",
       "    <tr>\n",
       "      <th>8</th>\n",
       "      <td>Alisha Ahmed</td>\n",
       "      <td>Female</td>\n",
       "      <td>85</td>\n",
       "    </tr>\n",
       "  </tbody>\n",
       "</table>\n",
       "</div>"
      ],
      "text/plain": [
       "              Name  Gender  Marks\n",
       "1   Muhammad Ahmed    Male     82\n",
       "2     Muhammad Ali    Male     89\n",
       "3  Muhammad Ramzan    Male     75\n",
       "4  Muhammad Kamran    Male     89\n",
       "5      Ayesha Khan  Female     91\n",
       "6        Hafsa Ali  Female     76\n",
       "7      Fatima Khan  Female     64\n",
       "8     Alisha Ahmed  Female     85"
      ]
     },
     "execution_count": 37,
     "metadata": {},
     "output_type": "execute_result"
    }
   ],
   "source": [
    "# Find Average/Min/Max Marks\n",
    "\n",
    "df1"
   ]
  },
  {
   "cell_type": "code",
   "execution_count": 38,
   "id": "6b1253ce",
   "metadata": {},
   "outputs": [
    {
     "data": {
      "text/plain": [
       "81.375"
      ]
     },
     "execution_count": 38,
     "metadata": {},
     "output_type": "execute_result"
    }
   ],
   "source": [
    "df1['Marks'].mean()    # For Average Marks"
   ]
  },
  {
   "cell_type": "code",
   "execution_count": 39,
   "id": "2a432f66",
   "metadata": {},
   "outputs": [
    {
     "data": {
      "text/plain": [
       "64"
      ]
     },
     "execution_count": 39,
     "metadata": {},
     "output_type": "execute_result"
    }
   ],
   "source": [
    "df1['Marks'].min()    # For Mininmum Marks"
   ]
  },
  {
   "cell_type": "code",
   "execution_count": 40,
   "id": "90df7631",
   "metadata": {},
   "outputs": [
    {
     "data": {
      "text/plain": [
       "91"
      ]
     },
     "execution_count": 40,
     "metadata": {},
     "output_type": "execute_result"
    }
   ],
   "source": [
    "df1['Marks'].max()   # For Maximum Marks"
   ]
  },
  {
   "cell_type": "code",
   "execution_count": 53,
   "id": "c9449369",
   "metadata": {},
   "outputs": [],
   "source": [
    "# Apply Method\n",
    "\n",
    "def marks(x):\n",
    "    return x/2\n",
    "\n",
    "df1['New_Marks']=df1['Marks'].apply(marks) #After Division Marks will be Shown in New_Marks Column"
   ]
  },
  {
   "cell_type": "code",
   "execution_count": 52,
   "id": "936c7c14",
   "metadata": {},
   "outputs": [
    {
     "data": {
      "text/html": [
       "<div>\n",
       "<style scoped>\n",
       "    .dataframe tbody tr th:only-of-type {\n",
       "        vertical-align: middle;\n",
       "    }\n",
       "\n",
       "    .dataframe tbody tr th {\n",
       "        vertical-align: top;\n",
       "    }\n",
       "\n",
       "    .dataframe thead th {\n",
       "        text-align: right;\n",
       "    }\n",
       "</style>\n",
       "<table border=\"1\" class=\"dataframe\">\n",
       "  <thead>\n",
       "    <tr style=\"text-align: right;\">\n",
       "      <th></th>\n",
       "      <th>Name</th>\n",
       "      <th>Gender</th>\n",
       "      <th>Marks</th>\n",
       "      <th>New_Marks</th>\n",
       "    </tr>\n",
       "  </thead>\n",
       "  <tbody>\n",
       "    <tr>\n",
       "      <th>1</th>\n",
       "      <td>Muhammad Ahmed</td>\n",
       "      <td>Male</td>\n",
       "      <td>82</td>\n",
       "      <td>41.0</td>\n",
       "    </tr>\n",
       "    <tr>\n",
       "      <th>2</th>\n",
       "      <td>Muhammad Ali</td>\n",
       "      <td>Male</td>\n",
       "      <td>89</td>\n",
       "      <td>44.5</td>\n",
       "    </tr>\n",
       "    <tr>\n",
       "      <th>3</th>\n",
       "      <td>Muhammad Ramzan</td>\n",
       "      <td>Male</td>\n",
       "      <td>75</td>\n",
       "      <td>37.5</td>\n",
       "    </tr>\n",
       "    <tr>\n",
       "      <th>4</th>\n",
       "      <td>Muhammad Kamran</td>\n",
       "      <td>Male</td>\n",
       "      <td>89</td>\n",
       "      <td>44.5</td>\n",
       "    </tr>\n",
       "    <tr>\n",
       "      <th>5</th>\n",
       "      <td>Ayesha Khan</td>\n",
       "      <td>Female</td>\n",
       "      <td>91</td>\n",
       "      <td>45.5</td>\n",
       "    </tr>\n",
       "    <tr>\n",
       "      <th>6</th>\n",
       "      <td>Hafsa Ali</td>\n",
       "      <td>Female</td>\n",
       "      <td>76</td>\n",
       "      <td>38.0</td>\n",
       "    </tr>\n",
       "    <tr>\n",
       "      <th>7</th>\n",
       "      <td>Fatima Khan</td>\n",
       "      <td>Female</td>\n",
       "      <td>64</td>\n",
       "      <td>32.0</td>\n",
       "    </tr>\n",
       "    <tr>\n",
       "      <th>8</th>\n",
       "      <td>Alisha Ahmed</td>\n",
       "      <td>Female</td>\n",
       "      <td>85</td>\n",
       "      <td>42.5</td>\n",
       "    </tr>\n",
       "  </tbody>\n",
       "</table>\n",
       "</div>"
      ],
      "text/plain": [
       "              Name  Gender  Marks  New_Marks\n",
       "1   Muhammad Ahmed    Male     82       41.0\n",
       "2     Muhammad Ali    Male     89       44.5\n",
       "3  Muhammad Ramzan    Male     75       37.5\n",
       "4  Muhammad Kamran    Male     89       44.5\n",
       "5      Ayesha Khan  Female     91       45.5\n",
       "6        Hafsa Ali  Female     76       38.0\n",
       "7      Fatima Khan  Female     64       32.0\n",
       "8     Alisha Ahmed  Female     85       42.5"
      ]
     },
     "execution_count": 52,
     "metadata": {},
     "output_type": "execute_result"
    }
   ],
   "source": [
    "df1"
   ]
  },
  {
   "cell_type": "code",
   "execution_count": 54,
   "id": "9d5e0a48",
   "metadata": {},
   "outputs": [],
   "source": [
    "def marks(x):\n",
    "    return x//2   #It Removes Decimals From Marks_Values \n",
    "\n",
    "df1['New_Marks']=df1['Marks'].apply(marks) #After Division Marks will be Shown in New_Marks Column"
   ]
  },
  {
   "cell_type": "code",
   "execution_count": 55,
   "id": "bf426273",
   "metadata": {},
   "outputs": [
    {
     "data": {
      "text/html": [
       "<div>\n",
       "<style scoped>\n",
       "    .dataframe tbody tr th:only-of-type {\n",
       "        vertical-align: middle;\n",
       "    }\n",
       "\n",
       "    .dataframe tbody tr th {\n",
       "        vertical-align: top;\n",
       "    }\n",
       "\n",
       "    .dataframe thead th {\n",
       "        text-align: right;\n",
       "    }\n",
       "</style>\n",
       "<table border=\"1\" class=\"dataframe\">\n",
       "  <thead>\n",
       "    <tr style=\"text-align: right;\">\n",
       "      <th></th>\n",
       "      <th>Name</th>\n",
       "      <th>Gender</th>\n",
       "      <th>Marks</th>\n",
       "      <th>New_Marks</th>\n",
       "    </tr>\n",
       "  </thead>\n",
       "  <tbody>\n",
       "    <tr>\n",
       "      <th>1</th>\n",
       "      <td>Muhammad Ahmed</td>\n",
       "      <td>Male</td>\n",
       "      <td>82</td>\n",
       "      <td>41</td>\n",
       "    </tr>\n",
       "    <tr>\n",
       "      <th>2</th>\n",
       "      <td>Muhammad Ali</td>\n",
       "      <td>Male</td>\n",
       "      <td>89</td>\n",
       "      <td>44</td>\n",
       "    </tr>\n",
       "    <tr>\n",
       "      <th>3</th>\n",
       "      <td>Muhammad Ramzan</td>\n",
       "      <td>Male</td>\n",
       "      <td>75</td>\n",
       "      <td>37</td>\n",
       "    </tr>\n",
       "    <tr>\n",
       "      <th>4</th>\n",
       "      <td>Muhammad Kamran</td>\n",
       "      <td>Male</td>\n",
       "      <td>89</td>\n",
       "      <td>44</td>\n",
       "    </tr>\n",
       "    <tr>\n",
       "      <th>5</th>\n",
       "      <td>Ayesha Khan</td>\n",
       "      <td>Female</td>\n",
       "      <td>91</td>\n",
       "      <td>45</td>\n",
       "    </tr>\n",
       "    <tr>\n",
       "      <th>6</th>\n",
       "      <td>Hafsa Ali</td>\n",
       "      <td>Female</td>\n",
       "      <td>76</td>\n",
       "      <td>38</td>\n",
       "    </tr>\n",
       "    <tr>\n",
       "      <th>7</th>\n",
       "      <td>Fatima Khan</td>\n",
       "      <td>Female</td>\n",
       "      <td>64</td>\n",
       "      <td>32</td>\n",
       "    </tr>\n",
       "    <tr>\n",
       "      <th>8</th>\n",
       "      <td>Alisha Ahmed</td>\n",
       "      <td>Female</td>\n",
       "      <td>85</td>\n",
       "      <td>42</td>\n",
       "    </tr>\n",
       "  </tbody>\n",
       "</table>\n",
       "</div>"
      ],
      "text/plain": [
       "              Name  Gender  Marks  New_Marks\n",
       "1   Muhammad Ahmed    Male     82         41\n",
       "2     Muhammad Ali    Male     89         44\n",
       "3  Muhammad Ramzan    Male     75         37\n",
       "4  Muhammad Kamran    Male     89         44\n",
       "5      Ayesha Khan  Female     91         45\n",
       "6        Hafsa Ali  Female     76         38\n",
       "7      Fatima Khan  Female     64         32\n",
       "8     Alisha Ahmed  Female     85         42"
      ]
     },
     "execution_count": 55,
     "metadata": {},
     "output_type": "execute_result"
    }
   ],
   "source": [
    "df1"
   ]
  },
  {
   "cell_type": "code",
   "execution_count": 60,
   "id": "33316365",
   "metadata": {},
   "outputs": [
    {
     "data": {
      "text/html": [
       "<div>\n",
       "<style scoped>\n",
       "    .dataframe tbody tr th:only-of-type {\n",
       "        vertical-align: middle;\n",
       "    }\n",
       "\n",
       "    .dataframe tbody tr th {\n",
       "        vertical-align: top;\n",
       "    }\n",
       "\n",
       "    .dataframe thead th {\n",
       "        text-align: right;\n",
       "    }\n",
       "</style>\n",
       "<table border=\"1\" class=\"dataframe\">\n",
       "  <thead>\n",
       "    <tr style=\"text-align: right;\">\n",
       "      <th></th>\n",
       "      <th>Name</th>\n",
       "      <th>Gender</th>\n",
       "      <th>Marks</th>\n",
       "      <th>New_Marks</th>\n",
       "    </tr>\n",
       "  </thead>\n",
       "  <tbody>\n",
       "    <tr>\n",
       "      <th>1</th>\n",
       "      <td>Muhammad Ahmed</td>\n",
       "      <td>Male</td>\n",
       "      <td>20.50</td>\n",
       "      <td>41</td>\n",
       "    </tr>\n",
       "    <tr>\n",
       "      <th>2</th>\n",
       "      <td>Muhammad Ali</td>\n",
       "      <td>Male</td>\n",
       "      <td>22.25</td>\n",
       "      <td>44</td>\n",
       "    </tr>\n",
       "    <tr>\n",
       "      <th>3</th>\n",
       "      <td>Muhammad Ramzan</td>\n",
       "      <td>Male</td>\n",
       "      <td>18.75</td>\n",
       "      <td>37</td>\n",
       "    </tr>\n",
       "    <tr>\n",
       "      <th>4</th>\n",
       "      <td>Muhammad Kamran</td>\n",
       "      <td>Male</td>\n",
       "      <td>22.25</td>\n",
       "      <td>44</td>\n",
       "    </tr>\n",
       "    <tr>\n",
       "      <th>5</th>\n",
       "      <td>Ayesha Khan</td>\n",
       "      <td>Female</td>\n",
       "      <td>22.75</td>\n",
       "      <td>45</td>\n",
       "    </tr>\n",
       "    <tr>\n",
       "      <th>6</th>\n",
       "      <td>Hafsa Ali</td>\n",
       "      <td>Female</td>\n",
       "      <td>19.00</td>\n",
       "      <td>38</td>\n",
       "    </tr>\n",
       "    <tr>\n",
       "      <th>7</th>\n",
       "      <td>Fatima Khan</td>\n",
       "      <td>Female</td>\n",
       "      <td>16.00</td>\n",
       "      <td>32</td>\n",
       "    </tr>\n",
       "    <tr>\n",
       "      <th>8</th>\n",
       "      <td>Alisha Ahmed</td>\n",
       "      <td>Female</td>\n",
       "      <td>21.25</td>\n",
       "      <td>42</td>\n",
       "    </tr>\n",
       "  </tbody>\n",
       "</table>\n",
       "</div>"
      ],
      "text/plain": [
       "              Name  Gender  Marks  New_Marks\n",
       "1   Muhammad Ahmed    Male  20.50         41\n",
       "2     Muhammad Ali    Male  22.25         44\n",
       "3  Muhammad Ramzan    Male  18.75         37\n",
       "4  Muhammad Kamran    Male  22.25         44\n",
       "5      Ayesha Khan  Female  22.75         45\n",
       "6        Hafsa Ali  Female  19.00         38\n",
       "7      Fatima Khan  Female  16.00         32\n",
       "8     Alisha Ahmed  Female  21.25         42"
      ]
     },
     "execution_count": 60,
     "metadata": {},
     "output_type": "execute_result"
    }
   ],
   "source": [
    "# Applying Lambda Function\n",
    "\n",
    "df1['Marks'] = df1['Marks'].apply(lambda x:x/2)\n",
    "df1"
   ]
  },
  {
   "cell_type": "code",
   "execution_count": 61,
   "id": "c449bf5f",
   "metadata": {},
   "outputs": [
    {
     "data": {
      "text/plain": [
       "1    14\n",
       "2    12\n",
       "3    15\n",
       "4    15\n",
       "5    11\n",
       "6     9\n",
       "7    11\n",
       "8    12\n",
       "Name: Name, dtype: int64"
      ]
     },
     "execution_count": 61,
     "metadata": {},
     "output_type": "execute_result"
    }
   ],
   "source": [
    "# len Function  (It Calculate or Finds The Total Number Of Alphabets In Each Column or Row)\n",
    "\n",
    "df1['Name'].apply(len)"
   ]
  },
  {
   "cell_type": "code",
   "execution_count": 65,
   "id": "d3276683",
   "metadata": {},
   "outputs": [
    {
     "data": {
      "text/plain": [
       "1    1\n",
       "2    1\n",
       "3    1\n",
       "4    1\n",
       "5    0\n",
       "6    0\n",
       "7    0\n",
       "8    0\n",
       "Name: Gender, dtype: int64"
      ]
     },
     "execution_count": 65,
     "metadata": {},
     "output_type": "execute_result"
    }
   ],
   "source": [
    "# Map Function\n",
    "# Here We Use 1 for Male AND 0 For Femaole\n",
    "\n",
    "df1['Gender'].map({'Male':1, \"Female\":0})"
   ]
  },
  {
   "cell_type": "code",
   "execution_count": 67,
   "id": "53dc1aca",
   "metadata": {},
   "outputs": [
    {
     "data": {
      "text/html": [
       "<div>\n",
       "<style scoped>\n",
       "    .dataframe tbody tr th:only-of-type {\n",
       "        vertical-align: middle;\n",
       "    }\n",
       "\n",
       "    .dataframe tbody tr th {\n",
       "        vertical-align: top;\n",
       "    }\n",
       "\n",
       "    .dataframe thead th {\n",
       "        text-align: right;\n",
       "    }\n",
       "</style>\n",
       "<table border=\"1\" class=\"dataframe\">\n",
       "  <thead>\n",
       "    <tr style=\"text-align: right;\">\n",
       "      <th></th>\n",
       "      <th>Name</th>\n",
       "      <th>Gender</th>\n",
       "      <th>Marks</th>\n",
       "      <th>New_Marks</th>\n",
       "      <th>Gender_No</th>\n",
       "    </tr>\n",
       "  </thead>\n",
       "  <tbody>\n",
       "    <tr>\n",
       "      <th>1</th>\n",
       "      <td>Muhammad Ahmed</td>\n",
       "      <td>Male</td>\n",
       "      <td>20.50</td>\n",
       "      <td>41</td>\n",
       "      <td>1</td>\n",
       "    </tr>\n",
       "    <tr>\n",
       "      <th>2</th>\n",
       "      <td>Muhammad Ali</td>\n",
       "      <td>Male</td>\n",
       "      <td>22.25</td>\n",
       "      <td>44</td>\n",
       "      <td>1</td>\n",
       "    </tr>\n",
       "    <tr>\n",
       "      <th>3</th>\n",
       "      <td>Muhammad Ramzan</td>\n",
       "      <td>Male</td>\n",
       "      <td>18.75</td>\n",
       "      <td>37</td>\n",
       "      <td>1</td>\n",
       "    </tr>\n",
       "    <tr>\n",
       "      <th>4</th>\n",
       "      <td>Muhammad Kamran</td>\n",
       "      <td>Male</td>\n",
       "      <td>22.25</td>\n",
       "      <td>44</td>\n",
       "      <td>1</td>\n",
       "    </tr>\n",
       "    <tr>\n",
       "      <th>5</th>\n",
       "      <td>Ayesha Khan</td>\n",
       "      <td>Female</td>\n",
       "      <td>22.75</td>\n",
       "      <td>45</td>\n",
       "      <td>0</td>\n",
       "    </tr>\n",
       "    <tr>\n",
       "      <th>6</th>\n",
       "      <td>Hafsa Ali</td>\n",
       "      <td>Female</td>\n",
       "      <td>19.00</td>\n",
       "      <td>38</td>\n",
       "      <td>0</td>\n",
       "    </tr>\n",
       "    <tr>\n",
       "      <th>7</th>\n",
       "      <td>Fatima Khan</td>\n",
       "      <td>Female</td>\n",
       "      <td>16.00</td>\n",
       "      <td>32</td>\n",
       "      <td>0</td>\n",
       "    </tr>\n",
       "    <tr>\n",
       "      <th>8</th>\n",
       "      <td>Alisha Ahmed</td>\n",
       "      <td>Female</td>\n",
       "      <td>21.25</td>\n",
       "      <td>42</td>\n",
       "      <td>0</td>\n",
       "    </tr>\n",
       "  </tbody>\n",
       "</table>\n",
       "</div>"
      ],
      "text/plain": [
       "              Name  Gender  Marks  New_Marks  Gender_No\n",
       "1   Muhammad Ahmed    Male  20.50         41          1\n",
       "2     Muhammad Ali    Male  22.25         44          1\n",
       "3  Muhammad Ramzan    Male  18.75         37          1\n",
       "4  Muhammad Kamran    Male  22.25         44          1\n",
       "5      Ayesha Khan  Female  22.75         45          0\n",
       "6        Hafsa Ali  Female  19.00         38          0\n",
       "7      Fatima Khan  Female  16.00         32          0\n",
       "8     Alisha Ahmed  Female  21.25         42          0"
      ]
     },
     "execution_count": 67,
     "metadata": {},
     "output_type": "execute_result"
    }
   ],
   "source": [
    "df1['Gender_No']= df1['Gender'].map({'Male':1, \"Female\":0})\n",
    "df1"
   ]
  },
  {
   "cell_type": "code",
   "execution_count": 70,
   "id": "4cf9640f",
   "metadata": {},
   "outputs": [
    {
     "data": {
      "text/html": [
       "<div>\n",
       "<style scoped>\n",
       "    .dataframe tbody tr th:only-of-type {\n",
       "        vertical-align: middle;\n",
       "    }\n",
       "\n",
       "    .dataframe tbody tr th {\n",
       "        vertical-align: top;\n",
       "    }\n",
       "\n",
       "    .dataframe thead th {\n",
       "        text-align: right;\n",
       "    }\n",
       "</style>\n",
       "<table border=\"1\" class=\"dataframe\">\n",
       "  <thead>\n",
       "    <tr style=\"text-align: right;\">\n",
       "      <th></th>\n",
       "      <th>Name</th>\n",
       "      <th>Gender</th>\n",
       "      <th>Marks</th>\n",
       "      <th>New_Marks</th>\n",
       "    </tr>\n",
       "  </thead>\n",
       "  <tbody>\n",
       "    <tr>\n",
       "      <th>1</th>\n",
       "      <td>Muhammad Ahmed</td>\n",
       "      <td>Male</td>\n",
       "      <td>20.50</td>\n",
       "      <td>41</td>\n",
       "    </tr>\n",
       "    <tr>\n",
       "      <th>2</th>\n",
       "      <td>Muhammad Ali</td>\n",
       "      <td>Male</td>\n",
       "      <td>22.25</td>\n",
       "      <td>44</td>\n",
       "    </tr>\n",
       "    <tr>\n",
       "      <th>3</th>\n",
       "      <td>Muhammad Ramzan</td>\n",
       "      <td>Male</td>\n",
       "      <td>18.75</td>\n",
       "      <td>37</td>\n",
       "    </tr>\n",
       "    <tr>\n",
       "      <th>4</th>\n",
       "      <td>Muhammad Kamran</td>\n",
       "      <td>Male</td>\n",
       "      <td>22.25</td>\n",
       "      <td>44</td>\n",
       "    </tr>\n",
       "    <tr>\n",
       "      <th>5</th>\n",
       "      <td>Ayesha Khan</td>\n",
       "      <td>Female</td>\n",
       "      <td>22.75</td>\n",
       "      <td>45</td>\n",
       "    </tr>\n",
       "    <tr>\n",
       "      <th>6</th>\n",
       "      <td>Hafsa Ali</td>\n",
       "      <td>Female</td>\n",
       "      <td>19.00</td>\n",
       "      <td>38</td>\n",
       "    </tr>\n",
       "    <tr>\n",
       "      <th>7</th>\n",
       "      <td>Fatima Khan</td>\n",
       "      <td>Female</td>\n",
       "      <td>16.00</td>\n",
       "      <td>32</td>\n",
       "    </tr>\n",
       "    <tr>\n",
       "      <th>8</th>\n",
       "      <td>Alisha Ahmed</td>\n",
       "      <td>Female</td>\n",
       "      <td>21.25</td>\n",
       "      <td>42</td>\n",
       "    </tr>\n",
       "  </tbody>\n",
       "</table>\n",
       "</div>"
      ],
      "text/plain": [
       "              Name  Gender  Marks  New_Marks\n",
       "1   Muhammad Ahmed    Male  20.50         41\n",
       "2     Muhammad Ali    Male  22.25         44\n",
       "3  Muhammad Ramzan    Male  18.75         37\n",
       "4  Muhammad Kamran    Male  22.25         44\n",
       "5      Ayesha Khan  Female  22.75         45\n",
       "6        Hafsa Ali  Female  19.00         38\n",
       "7      Fatima Khan  Female  16.00         32\n",
       "8     Alisha Ahmed  Female  21.25         42"
      ]
     },
     "execution_count": 70,
     "metadata": {},
     "output_type": "execute_result"
    }
   ],
   "source": [
    "# Drop Column(s)\n",
    "# For Single Column\n",
    "\n",
    "df1.drop('Gender_No',axis=1)"
   ]
  },
  {
   "cell_type": "code",
   "execution_count": 72,
   "id": "845e560a",
   "metadata": {},
   "outputs": [
    {
     "data": {
      "text/html": [
       "<div>\n",
       "<style scoped>\n",
       "    .dataframe tbody tr th:only-of-type {\n",
       "        vertical-align: middle;\n",
       "    }\n",
       "\n",
       "    .dataframe tbody tr th {\n",
       "        vertical-align: top;\n",
       "    }\n",
       "\n",
       "    .dataframe thead th {\n",
       "        text-align: right;\n",
       "    }\n",
       "</style>\n",
       "<table border=\"1\" class=\"dataframe\">\n",
       "  <thead>\n",
       "    <tr style=\"text-align: right;\">\n",
       "      <th></th>\n",
       "      <th>Name</th>\n",
       "      <th>Gender</th>\n",
       "      <th>Marks</th>\n",
       "    </tr>\n",
       "  </thead>\n",
       "  <tbody>\n",
       "    <tr>\n",
       "      <th>1</th>\n",
       "      <td>Muhammad Ahmed</td>\n",
       "      <td>Male</td>\n",
       "      <td>20.50</td>\n",
       "    </tr>\n",
       "    <tr>\n",
       "      <th>2</th>\n",
       "      <td>Muhammad Ali</td>\n",
       "      <td>Male</td>\n",
       "      <td>22.25</td>\n",
       "    </tr>\n",
       "    <tr>\n",
       "      <th>3</th>\n",
       "      <td>Muhammad Ramzan</td>\n",
       "      <td>Male</td>\n",
       "      <td>18.75</td>\n",
       "    </tr>\n",
       "    <tr>\n",
       "      <th>4</th>\n",
       "      <td>Muhammad Kamran</td>\n",
       "      <td>Male</td>\n",
       "      <td>22.25</td>\n",
       "    </tr>\n",
       "    <tr>\n",
       "      <th>5</th>\n",
       "      <td>Ayesha Khan</td>\n",
       "      <td>Female</td>\n",
       "      <td>22.75</td>\n",
       "    </tr>\n",
       "    <tr>\n",
       "      <th>6</th>\n",
       "      <td>Hafsa Ali</td>\n",
       "      <td>Female</td>\n",
       "      <td>19.00</td>\n",
       "    </tr>\n",
       "    <tr>\n",
       "      <th>7</th>\n",
       "      <td>Fatima Khan</td>\n",
       "      <td>Female</td>\n",
       "      <td>16.00</td>\n",
       "    </tr>\n",
       "    <tr>\n",
       "      <th>8</th>\n",
       "      <td>Alisha Ahmed</td>\n",
       "      <td>Female</td>\n",
       "      <td>21.25</td>\n",
       "    </tr>\n",
       "  </tbody>\n",
       "</table>\n",
       "</div>"
      ],
      "text/plain": [
       "              Name  Gender  Marks\n",
       "1   Muhammad Ahmed    Male  20.50\n",
       "2     Muhammad Ali    Male  22.25\n",
       "3  Muhammad Ramzan    Male  18.75\n",
       "4  Muhammad Kamran    Male  22.25\n",
       "5      Ayesha Khan  Female  22.75\n",
       "6        Hafsa Ali  Female  19.00\n",
       "7      Fatima Khan  Female  16.00\n",
       "8     Alisha Ahmed  Female  21.25"
      ]
     },
     "execution_count": 72,
     "metadata": {},
     "output_type": "execute_result"
    }
   ],
   "source": [
    "# For Multiple Columns\n",
    "# We Use Python List For Dropping Multiple Columns\n",
    "\n",
    "df1.drop(['Gender_No','New_Marks'],axis=1,inplace=True)"
   ]
  },
  {
   "cell_type": "code",
   "execution_count": 76,
   "id": "74b43af7",
   "metadata": {},
   "outputs": [],
   "source": [
    "def marks(x):\n",
    "    return x+70\n",
    "df1['Marks']=df1['Marks'].apply(marks)"
   ]
  },
  {
   "cell_type": "code",
   "execution_count": 77,
   "id": "285fb090",
   "metadata": {},
   "outputs": [
    {
     "data": {
      "text/html": [
       "<div>\n",
       "<style scoped>\n",
       "    .dataframe tbody tr th:only-of-type {\n",
       "        vertical-align: middle;\n",
       "    }\n",
       "\n",
       "    .dataframe tbody tr th {\n",
       "        vertical-align: top;\n",
       "    }\n",
       "\n",
       "    .dataframe thead th {\n",
       "        text-align: right;\n",
       "    }\n",
       "</style>\n",
       "<table border=\"1\" class=\"dataframe\">\n",
       "  <thead>\n",
       "    <tr style=\"text-align: right;\">\n",
       "      <th></th>\n",
       "      <th>Name</th>\n",
       "      <th>Gender</th>\n",
       "      <th>Marks</th>\n",
       "      <th>New_Marks</th>\n",
       "      <th>Gender_No</th>\n",
       "    </tr>\n",
       "  </thead>\n",
       "  <tbody>\n",
       "    <tr>\n",
       "      <th>1</th>\n",
       "      <td>Muhammad Ahmed</td>\n",
       "      <td>Male</td>\n",
       "      <td>160.50</td>\n",
       "      <td>41</td>\n",
       "      <td>1</td>\n",
       "    </tr>\n",
       "    <tr>\n",
       "      <th>2</th>\n",
       "      <td>Muhammad Ali</td>\n",
       "      <td>Male</td>\n",
       "      <td>162.25</td>\n",
       "      <td>44</td>\n",
       "      <td>1</td>\n",
       "    </tr>\n",
       "    <tr>\n",
       "      <th>3</th>\n",
       "      <td>Muhammad Ramzan</td>\n",
       "      <td>Male</td>\n",
       "      <td>158.75</td>\n",
       "      <td>37</td>\n",
       "      <td>1</td>\n",
       "    </tr>\n",
       "    <tr>\n",
       "      <th>4</th>\n",
       "      <td>Muhammad Kamran</td>\n",
       "      <td>Male</td>\n",
       "      <td>162.25</td>\n",
       "      <td>44</td>\n",
       "      <td>1</td>\n",
       "    </tr>\n",
       "    <tr>\n",
       "      <th>5</th>\n",
       "      <td>Ayesha Khan</td>\n",
       "      <td>Female</td>\n",
       "      <td>162.75</td>\n",
       "      <td>45</td>\n",
       "      <td>0</td>\n",
       "    </tr>\n",
       "    <tr>\n",
       "      <th>6</th>\n",
       "      <td>Hafsa Ali</td>\n",
       "      <td>Female</td>\n",
       "      <td>159.00</td>\n",
       "      <td>38</td>\n",
       "      <td>0</td>\n",
       "    </tr>\n",
       "    <tr>\n",
       "      <th>7</th>\n",
       "      <td>Fatima Khan</td>\n",
       "      <td>Female</td>\n",
       "      <td>156.00</td>\n",
       "      <td>32</td>\n",
       "      <td>0</td>\n",
       "    </tr>\n",
       "    <tr>\n",
       "      <th>8</th>\n",
       "      <td>Alisha Ahmed</td>\n",
       "      <td>Female</td>\n",
       "      <td>161.25</td>\n",
       "      <td>42</td>\n",
       "      <td>0</td>\n",
       "    </tr>\n",
       "  </tbody>\n",
       "</table>\n",
       "</div>"
      ],
      "text/plain": [
       "              Name  Gender   Marks  New_Marks  Gender_No\n",
       "1   Muhammad Ahmed    Male  160.50         41          1\n",
       "2     Muhammad Ali    Male  162.25         44          1\n",
       "3  Muhammad Ramzan    Male  158.75         37          1\n",
       "4  Muhammad Kamran    Male  162.25         44          1\n",
       "5      Ayesha Khan  Female  162.75         45          0\n",
       "6        Hafsa Ali  Female  159.00         38          0\n",
       "7      Fatima Khan  Female  156.00         32          0\n",
       "8     Alisha Ahmed  Female  161.25         42          0"
      ]
     },
     "execution_count": 77,
     "metadata": {},
     "output_type": "execute_result"
    }
   ],
   "source": [
    "df1"
   ]
  },
  {
   "cell_type": "code",
   "execution_count": 79,
   "id": "8dc253e6",
   "metadata": {},
   "outputs": [
    {
     "data": {
      "text/html": [
       "<div>\n",
       "<style scoped>\n",
       "    .dataframe tbody tr th:only-of-type {\n",
       "        vertical-align: middle;\n",
       "    }\n",
       "\n",
       "    .dataframe tbody tr th {\n",
       "        vertical-align: top;\n",
       "    }\n",
       "\n",
       "    .dataframe thead th {\n",
       "        text-align: right;\n",
       "    }\n",
       "</style>\n",
       "<table border=\"1\" class=\"dataframe\">\n",
       "  <thead>\n",
       "    <tr style=\"text-align: right;\">\n",
       "      <th></th>\n",
       "      <th>Name</th>\n",
       "      <th>Gender</th>\n",
       "      <th>Marks</th>\n",
       "      <th>New_Marks</th>\n",
       "      <th>Gender_No</th>\n",
       "    </tr>\n",
       "  </thead>\n",
       "  <tbody>\n",
       "    <tr>\n",
       "      <th>1</th>\n",
       "      <td>Muhammad Ahmed</td>\n",
       "      <td>Male</td>\n",
       "      <td>160.50</td>\n",
       "      <td>41</td>\n",
       "      <td>1</td>\n",
       "    </tr>\n",
       "    <tr>\n",
       "      <th>2</th>\n",
       "      <td>Muhammad Ali</td>\n",
       "      <td>Male</td>\n",
       "      <td>162.25</td>\n",
       "      <td>44</td>\n",
       "      <td>1</td>\n",
       "    </tr>\n",
       "    <tr>\n",
       "      <th>3</th>\n",
       "      <td>Muhammad Ramzan</td>\n",
       "      <td>Male</td>\n",
       "      <td>158.75</td>\n",
       "      <td>37</td>\n",
       "      <td>1</td>\n",
       "    </tr>\n",
       "    <tr>\n",
       "      <th>4</th>\n",
       "      <td>Muhammad Kamran</td>\n",
       "      <td>Male</td>\n",
       "      <td>162.25</td>\n",
       "      <td>44</td>\n",
       "      <td>1</td>\n",
       "    </tr>\n",
       "    <tr>\n",
       "      <th>5</th>\n",
       "      <td>Ayesha Khan</td>\n",
       "      <td>Female</td>\n",
       "      <td>162.75</td>\n",
       "      <td>45</td>\n",
       "      <td>0</td>\n",
       "    </tr>\n",
       "    <tr>\n",
       "      <th>6</th>\n",
       "      <td>Hafsa Ali</td>\n",
       "      <td>Female</td>\n",
       "      <td>159.00</td>\n",
       "      <td>38</td>\n",
       "      <td>0</td>\n",
       "    </tr>\n",
       "    <tr>\n",
       "      <th>7</th>\n",
       "      <td>Fatima Khan</td>\n",
       "      <td>Female</td>\n",
       "      <td>156.00</td>\n",
       "      <td>32</td>\n",
       "      <td>0</td>\n",
       "    </tr>\n",
       "    <tr>\n",
       "      <th>8</th>\n",
       "      <td>Alisha Ahmed</td>\n",
       "      <td>Female</td>\n",
       "      <td>161.25</td>\n",
       "      <td>42</td>\n",
       "      <td>0</td>\n",
       "    </tr>\n",
       "  </tbody>\n",
       "</table>\n",
       "</div>"
      ],
      "text/plain": [
       "              Name  Gender   Marks  New_Marks  Gender_No\n",
       "1   Muhammad Ahmed    Male  160.50         41          1\n",
       "2     Muhammad Ali    Male  162.25         44          1\n",
       "3  Muhammad Ramzan    Male  158.75         37          1\n",
       "4  Muhammad Kamran    Male  162.25         44          1\n",
       "5      Ayesha Khan  Female  162.75         45          0\n",
       "6        Hafsa Ali  Female  159.00         38          0\n",
       "7      Fatima Khan  Female  156.00         32          0\n",
       "8     Alisha Ahmed  Female  161.25         42          0"
      ]
     },
     "execution_count": 79,
     "metadata": {},
     "output_type": "execute_result"
    }
   ],
   "source": [
    "df1"
   ]
  },
  {
   "cell_type": "code",
   "execution_count": 81,
   "id": "52bc33b4",
   "metadata": {},
   "outputs": [],
   "source": [
    "df1.drop(['New_Marks','Gender_No'],axis=1,inplace=True)"
   ]
  },
  {
   "cell_type": "code",
   "execution_count": 82,
   "id": "8cf8f755",
   "metadata": {},
   "outputs": [
    {
     "data": {
      "text/html": [
       "<div>\n",
       "<style scoped>\n",
       "    .dataframe tbody tr th:only-of-type {\n",
       "        vertical-align: middle;\n",
       "    }\n",
       "\n",
       "    .dataframe tbody tr th {\n",
       "        vertical-align: top;\n",
       "    }\n",
       "\n",
       "    .dataframe thead th {\n",
       "        text-align: right;\n",
       "    }\n",
       "</style>\n",
       "<table border=\"1\" class=\"dataframe\">\n",
       "  <thead>\n",
       "    <tr style=\"text-align: right;\">\n",
       "      <th></th>\n",
       "      <th>Name</th>\n",
       "      <th>Gender</th>\n",
       "      <th>Marks</th>\n",
       "    </tr>\n",
       "  </thead>\n",
       "  <tbody>\n",
       "    <tr>\n",
       "      <th>1</th>\n",
       "      <td>Muhammad Ahmed</td>\n",
       "      <td>Male</td>\n",
       "      <td>160.50</td>\n",
       "    </tr>\n",
       "    <tr>\n",
       "      <th>2</th>\n",
       "      <td>Muhammad Ali</td>\n",
       "      <td>Male</td>\n",
       "      <td>162.25</td>\n",
       "    </tr>\n",
       "    <tr>\n",
       "      <th>3</th>\n",
       "      <td>Muhammad Ramzan</td>\n",
       "      <td>Male</td>\n",
       "      <td>158.75</td>\n",
       "    </tr>\n",
       "    <tr>\n",
       "      <th>4</th>\n",
       "      <td>Muhammad Kamran</td>\n",
       "      <td>Male</td>\n",
       "      <td>162.25</td>\n",
       "    </tr>\n",
       "    <tr>\n",
       "      <th>5</th>\n",
       "      <td>Ayesha Khan</td>\n",
       "      <td>Female</td>\n",
       "      <td>162.75</td>\n",
       "    </tr>\n",
       "    <tr>\n",
       "      <th>6</th>\n",
       "      <td>Hafsa Ali</td>\n",
       "      <td>Female</td>\n",
       "      <td>159.00</td>\n",
       "    </tr>\n",
       "    <tr>\n",
       "      <th>7</th>\n",
       "      <td>Fatima Khan</td>\n",
       "      <td>Female</td>\n",
       "      <td>156.00</td>\n",
       "    </tr>\n",
       "    <tr>\n",
       "      <th>8</th>\n",
       "      <td>Alisha Ahmed</td>\n",
       "      <td>Female</td>\n",
       "      <td>161.25</td>\n",
       "    </tr>\n",
       "  </tbody>\n",
       "</table>\n",
       "</div>"
      ],
      "text/plain": [
       "              Name  Gender   Marks\n",
       "1   Muhammad Ahmed    Male  160.50\n",
       "2     Muhammad Ali    Male  162.25\n",
       "3  Muhammad Ramzan    Male  158.75\n",
       "4  Muhammad Kamran    Male  162.25\n",
       "5      Ayesha Khan  Female  162.75\n",
       "6        Hafsa Ali  Female  159.00\n",
       "7      Fatima Khan  Female  156.00\n",
       "8     Alisha Ahmed  Female  161.25"
      ]
     },
     "execution_count": 82,
     "metadata": {},
     "output_type": "execute_result"
    }
   ],
   "source": [
    "df1"
   ]
  },
  {
   "cell_type": "code",
   "execution_count": 86,
   "id": "d31de2ea",
   "metadata": {},
   "outputs": [
    {
     "data": {
      "text/plain": [
       "Index(['Name', 'Gender', 'Marks'], dtype='object')"
      ]
     },
     "execution_count": 86,
     "metadata": {},
     "output_type": "execute_result"
    }
   ],
   "source": [
    "# Print Name Of The Columns\n",
    "\n",
    "df1.columns"
   ]
  },
  {
   "cell_type": "code",
   "execution_count": 88,
   "id": "62a169cf",
   "metadata": {},
   "outputs": [
    {
     "data": {
      "text/plain": [
       "Int64Index([1, 2, 3, 4, 5, 6, 7, 8], dtype='int64')"
      ]
     },
     "execution_count": 88,
     "metadata": {},
     "output_type": "execute_result"
    }
   ],
   "source": [
    "# Print Indexes\n",
    "\n",
    "df1.index"
   ]
  },
  {
   "cell_type": "code",
   "execution_count": 89,
   "id": "fe8c1692",
   "metadata": {},
   "outputs": [
    {
     "data": {
      "text/html": [
       "<div>\n",
       "<style scoped>\n",
       "    .dataframe tbody tr th:only-of-type {\n",
       "        vertical-align: middle;\n",
       "    }\n",
       "\n",
       "    .dataframe tbody tr th {\n",
       "        vertical-align: top;\n",
       "    }\n",
       "\n",
       "    .dataframe thead th {\n",
       "        text-align: right;\n",
       "    }\n",
       "</style>\n",
       "<table border=\"1\" class=\"dataframe\">\n",
       "  <thead>\n",
       "    <tr style=\"text-align: right;\">\n",
       "      <th></th>\n",
       "      <th>Name</th>\n",
       "      <th>Gender</th>\n",
       "      <th>Marks</th>\n",
       "    </tr>\n",
       "  </thead>\n",
       "  <tbody>\n",
       "    <tr>\n",
       "      <th>7</th>\n",
       "      <td>Fatima Khan</td>\n",
       "      <td>Female</td>\n",
       "      <td>156.00</td>\n",
       "    </tr>\n",
       "    <tr>\n",
       "      <th>3</th>\n",
       "      <td>Muhammad Ramzan</td>\n",
       "      <td>Male</td>\n",
       "      <td>158.75</td>\n",
       "    </tr>\n",
       "    <tr>\n",
       "      <th>6</th>\n",
       "      <td>Hafsa Ali</td>\n",
       "      <td>Female</td>\n",
       "      <td>159.00</td>\n",
       "    </tr>\n",
       "    <tr>\n",
       "      <th>1</th>\n",
       "      <td>Muhammad Ahmed</td>\n",
       "      <td>Male</td>\n",
       "      <td>160.50</td>\n",
       "    </tr>\n",
       "    <tr>\n",
       "      <th>8</th>\n",
       "      <td>Alisha Ahmed</td>\n",
       "      <td>Female</td>\n",
       "      <td>161.25</td>\n",
       "    </tr>\n",
       "    <tr>\n",
       "      <th>2</th>\n",
       "      <td>Muhammad Ali</td>\n",
       "      <td>Male</td>\n",
       "      <td>162.25</td>\n",
       "    </tr>\n",
       "    <tr>\n",
       "      <th>4</th>\n",
       "      <td>Muhammad Kamran</td>\n",
       "      <td>Male</td>\n",
       "      <td>162.25</td>\n",
       "    </tr>\n",
       "    <tr>\n",
       "      <th>5</th>\n",
       "      <td>Ayesha Khan</td>\n",
       "      <td>Female</td>\n",
       "      <td>162.75</td>\n",
       "    </tr>\n",
       "  </tbody>\n",
       "</table>\n",
       "</div>"
      ],
      "text/plain": [
       "              Name  Gender   Marks\n",
       "7      Fatima Khan  Female  156.00\n",
       "3  Muhammad Ramzan    Male  158.75\n",
       "6        Hafsa Ali  Female  159.00\n",
       "1   Muhammad Ahmed    Male  160.50\n",
       "8     Alisha Ahmed  Female  161.25\n",
       "2     Muhammad Ali    Male  162.25\n",
       "4  Muhammad Kamran    Male  162.25\n",
       "5      Ayesha Khan  Female  162.75"
      ]
     },
     "execution_count": 89,
     "metadata": {},
     "output_type": "execute_result"
    }
   ],
   "source": [
    "# Sort Dataset As per The Marks Columns\n",
    "\n",
    "\n",
    "df1.sort_values('Marks')     # By Default Descending Order"
   ]
  },
  {
   "cell_type": "code",
   "execution_count": 90,
   "id": "aabab0f8",
   "metadata": {},
   "outputs": [
    {
     "data": {
      "text/html": [
       "<div>\n",
       "<style scoped>\n",
       "    .dataframe tbody tr th:only-of-type {\n",
       "        vertical-align: middle;\n",
       "    }\n",
       "\n",
       "    .dataframe tbody tr th {\n",
       "        vertical-align: top;\n",
       "    }\n",
       "\n",
       "    .dataframe thead th {\n",
       "        text-align: right;\n",
       "    }\n",
       "</style>\n",
       "<table border=\"1\" class=\"dataframe\">\n",
       "  <thead>\n",
       "    <tr style=\"text-align: right;\">\n",
       "      <th></th>\n",
       "      <th>Name</th>\n",
       "      <th>Gender</th>\n",
       "      <th>Marks</th>\n",
       "    </tr>\n",
       "  </thead>\n",
       "  <tbody>\n",
       "    <tr>\n",
       "      <th>5</th>\n",
       "      <td>Ayesha Khan</td>\n",
       "      <td>Female</td>\n",
       "      <td>162.75</td>\n",
       "    </tr>\n",
       "    <tr>\n",
       "      <th>2</th>\n",
       "      <td>Muhammad Ali</td>\n",
       "      <td>Male</td>\n",
       "      <td>162.25</td>\n",
       "    </tr>\n",
       "    <tr>\n",
       "      <th>4</th>\n",
       "      <td>Muhammad Kamran</td>\n",
       "      <td>Male</td>\n",
       "      <td>162.25</td>\n",
       "    </tr>\n",
       "    <tr>\n",
       "      <th>8</th>\n",
       "      <td>Alisha Ahmed</td>\n",
       "      <td>Female</td>\n",
       "      <td>161.25</td>\n",
       "    </tr>\n",
       "    <tr>\n",
       "      <th>1</th>\n",
       "      <td>Muhammad Ahmed</td>\n",
       "      <td>Male</td>\n",
       "      <td>160.50</td>\n",
       "    </tr>\n",
       "    <tr>\n",
       "      <th>6</th>\n",
       "      <td>Hafsa Ali</td>\n",
       "      <td>Female</td>\n",
       "      <td>159.00</td>\n",
       "    </tr>\n",
       "    <tr>\n",
       "      <th>3</th>\n",
       "      <td>Muhammad Ramzan</td>\n",
       "      <td>Male</td>\n",
       "      <td>158.75</td>\n",
       "    </tr>\n",
       "    <tr>\n",
       "      <th>7</th>\n",
       "      <td>Fatima Khan</td>\n",
       "      <td>Female</td>\n",
       "      <td>156.00</td>\n",
       "    </tr>\n",
       "  </tbody>\n",
       "</table>\n",
       "</div>"
      ],
      "text/plain": [
       "              Name  Gender   Marks\n",
       "5      Ayesha Khan  Female  162.75\n",
       "2     Muhammad Ali    Male  162.25\n",
       "4  Muhammad Kamran    Male  162.25\n",
       "8     Alisha Ahmed  Female  161.25\n",
       "1   Muhammad Ahmed    Male  160.50\n",
       "6        Hafsa Ali  Female  159.00\n",
       "3  Muhammad Ramzan    Male  158.75\n",
       "7      Fatima Khan  Female  156.00"
      ]
     },
     "execution_count": 90,
     "metadata": {},
     "output_type": "execute_result"
    }
   ],
   "source": [
    "df1.sort_values(['Marks', 'Gender'], ascending=False)  #Sorting Multiple Columns Via Ascending Order"
   ]
  },
  {
   "cell_type": "code",
   "execution_count": 91,
   "id": "3eeace49",
   "metadata": {},
   "outputs": [
    {
     "data": {
      "text/html": [
       "<div>\n",
       "<style scoped>\n",
       "    .dataframe tbody tr th:only-of-type {\n",
       "        vertical-align: middle;\n",
       "    }\n",
       "\n",
       "    .dataframe tbody tr th {\n",
       "        vertical-align: top;\n",
       "    }\n",
       "\n",
       "    .dataframe thead th {\n",
       "        text-align: right;\n",
       "    }\n",
       "</style>\n",
       "<table border=\"1\" class=\"dataframe\">\n",
       "  <thead>\n",
       "    <tr style=\"text-align: right;\">\n",
       "      <th></th>\n",
       "      <th>Name</th>\n",
       "      <th>Marks</th>\n",
       "    </tr>\n",
       "  </thead>\n",
       "  <tbody>\n",
       "    <tr>\n",
       "      <th>5</th>\n",
       "      <td>Ayesha Khan</td>\n",
       "      <td>162.75</td>\n",
       "    </tr>\n",
       "    <tr>\n",
       "      <th>6</th>\n",
       "      <td>Hafsa Ali</td>\n",
       "      <td>159.00</td>\n",
       "    </tr>\n",
       "    <tr>\n",
       "      <th>7</th>\n",
       "      <td>Fatima Khan</td>\n",
       "      <td>156.00</td>\n",
       "    </tr>\n",
       "    <tr>\n",
       "      <th>8</th>\n",
       "      <td>Alisha Ahmed</td>\n",
       "      <td>161.25</td>\n",
       "    </tr>\n",
       "  </tbody>\n",
       "</table>\n",
       "</div>"
      ],
      "text/plain": [
       "           Name   Marks\n",
       "5   Ayesha Khan  162.75\n",
       "6     Hafsa Ali  159.00\n",
       "7   Fatima Khan  156.00\n",
       "8  Alisha Ahmed  161.25"
      ]
     },
     "execution_count": 91,
     "metadata": {},
     "output_type": "execute_result"
    }
   ],
   "source": [
    "# Display NAME And Marks Of Females Student\n",
    "\n",
    "df1[df1['Gender'] == 'Female'] [['Name','Marks']]\n"
   ]
  },
  {
   "cell_type": "code",
   "execution_count": 92,
   "id": "75af9476",
   "metadata": {},
   "outputs": [
    {
     "data": {
      "text/plain": [
       "1    False\n",
       "2    False\n",
       "3    False\n",
       "4    False\n",
       "5     True\n",
       "6     True\n",
       "7     True\n",
       "8     True\n",
       "Name: Gender, dtype: bool"
      ]
     },
     "execution_count": 92,
     "metadata": {},
     "output_type": "execute_result"
    }
   ],
   "source": [
    "df1['Gender'].isin(['Female'])\n"
   ]
  },
  {
   "cell_type": "code",
   "execution_count": 93,
   "id": "e980a991",
   "metadata": {},
   "outputs": [
    {
     "data": {
      "text/html": [
       "<div>\n",
       "<style scoped>\n",
       "    .dataframe tbody tr th:only-of-type {\n",
       "        vertical-align: middle;\n",
       "    }\n",
       "\n",
       "    .dataframe tbody tr th {\n",
       "        vertical-align: top;\n",
       "    }\n",
       "\n",
       "    .dataframe thead th {\n",
       "        text-align: right;\n",
       "    }\n",
       "</style>\n",
       "<table border=\"1\" class=\"dataframe\">\n",
       "  <thead>\n",
       "    <tr style=\"text-align: right;\">\n",
       "      <th></th>\n",
       "      <th>Name</th>\n",
       "      <th>Gender</th>\n",
       "      <th>Marks</th>\n",
       "    </tr>\n",
       "  </thead>\n",
       "  <tbody>\n",
       "    <tr>\n",
       "      <th>5</th>\n",
       "      <td>Ayesha Khan</td>\n",
       "      <td>Female</td>\n",
       "      <td>162.75</td>\n",
       "    </tr>\n",
       "    <tr>\n",
       "      <th>6</th>\n",
       "      <td>Hafsa Ali</td>\n",
       "      <td>Female</td>\n",
       "      <td>159.00</td>\n",
       "    </tr>\n",
       "    <tr>\n",
       "      <th>7</th>\n",
       "      <td>Fatima Khan</td>\n",
       "      <td>Female</td>\n",
       "      <td>156.00</td>\n",
       "    </tr>\n",
       "    <tr>\n",
       "      <th>8</th>\n",
       "      <td>Alisha Ahmed</td>\n",
       "      <td>Female</td>\n",
       "      <td>161.25</td>\n",
       "    </tr>\n",
       "  </tbody>\n",
       "</table>\n",
       "</div>"
      ],
      "text/plain": [
       "           Name  Gender   Marks\n",
       "5   Ayesha Khan  Female  162.75\n",
       "6     Hafsa Ali  Female  159.00\n",
       "7   Fatima Khan  Female  156.00\n",
       "8  Alisha Ahmed  Female  161.25"
      ]
     },
     "execution_count": 93,
     "metadata": {},
     "output_type": "execute_result"
    }
   ],
   "source": [
    "df1[df1['Gender'].isin(['Female'])]\n"
   ]
  },
  {
   "cell_type": "code",
   "execution_count": 95,
   "id": "c47d786f",
   "metadata": {},
   "outputs": [
    {
     "data": {
      "text/html": [
       "<div>\n",
       "<style scoped>\n",
       "    .dataframe tbody tr th:only-of-type {\n",
       "        vertical-align: middle;\n",
       "    }\n",
       "\n",
       "    .dataframe tbody tr th {\n",
       "        vertical-align: top;\n",
       "    }\n",
       "\n",
       "    .dataframe thead th {\n",
       "        text-align: right;\n",
       "    }\n",
       "</style>\n",
       "<table border=\"1\" class=\"dataframe\">\n",
       "  <thead>\n",
       "    <tr style=\"text-align: right;\">\n",
       "      <th></th>\n",
       "      <th>Name</th>\n",
       "      <th>Marks</th>\n",
       "    </tr>\n",
       "  </thead>\n",
       "  <tbody>\n",
       "    <tr>\n",
       "      <th>5</th>\n",
       "      <td>Ayesha Khan</td>\n",
       "      <td>162.75</td>\n",
       "    </tr>\n",
       "    <tr>\n",
       "      <th>6</th>\n",
       "      <td>Hafsa Ali</td>\n",
       "      <td>159.00</td>\n",
       "    </tr>\n",
       "    <tr>\n",
       "      <th>7</th>\n",
       "      <td>Fatima Khan</td>\n",
       "      <td>156.00</td>\n",
       "    </tr>\n",
       "    <tr>\n",
       "      <th>8</th>\n",
       "      <td>Alisha Ahmed</td>\n",
       "      <td>161.25</td>\n",
       "    </tr>\n",
       "  </tbody>\n",
       "</table>\n",
       "</div>"
      ],
      "text/plain": [
       "           Name   Marks\n",
       "5   Ayesha Khan  162.75\n",
       "6     Hafsa Ali  159.00\n",
       "7   Fatima Khan  156.00\n",
       "8  Alisha Ahmed  161.25"
      ]
     },
     "execution_count": 95,
     "metadata": {},
     "output_type": "execute_result"
    }
   ],
   "source": [
    "df1[df1['Gender'].isin(['Female'])] [['Name','Marks']]"
   ]
  },
  {
   "cell_type": "code",
   "execution_count": null,
   "id": "b11bfcb2",
   "metadata": {},
   "outputs": [],
   "source": []
  }
 ],
 "metadata": {
  "kernelspec": {
   "display_name": "Python 3 (ipykernel)",
   "language": "python",
   "name": "python3"
  },
  "language_info": {
   "codemirror_mode": {
    "name": "ipython",
    "version": 3
   },
   "file_extension": ".py",
   "mimetype": "text/x-python",
   "name": "python",
   "nbconvert_exporter": "python",
   "pygments_lexer": "ipython3",
   "version": "3.9.13"
  }
 },
 "nbformat": 4,
 "nbformat_minor": 5
}
